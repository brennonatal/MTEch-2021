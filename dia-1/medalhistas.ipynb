{
  "nbformat": 4,
  "nbformat_minor": 0,
  "metadata": {
    "colab": {
      "name": "medalhistas.ipynb",
      "provenance": [],
      "collapsed_sections": []
    },
    "kernelspec": {
      "name": "python3",
      "display_name": "Python 3"
    },
    "language_info": {
      "name": "python"
    }
  },
  "cells": [
    {
      "cell_type": "code",
      "metadata": {
        "id": "KBAtde2chqIl"
      },
      "source": [
        "# importing libraries\n",
        "import matplotlib.pyplot as plt\n",
        "import pandas as pd\n",
        "import numpy as np\n",
        "import seaborn as sns"
      ],
      "execution_count": 65,
      "outputs": []
    },
    {
      "cell_type": "markdown",
      "metadata": {
        "id": "shTFfT5P4I6C"
      },
      "source": [
        "## Exercício MTEch Dia 1\n",
        "\n",
        "Este é o primeiro de três exercícios práticos que serão disponibilizados durante o MTEch 2021.\n",
        "\n",
        "Neste [Link](https://drive.google.com/file/d/10l0-YCah6_BPEdCveMXzlENX-2JOey2c/view) você encontra uma base de dados contendo todos os medalhistas dos\n",
        "jogos olímpicos entre 1896 e 2008. "
      ]
    },
    {
      "cell_type": "code",
      "metadata": {
        "colab": {
          "base_uri": "https://localhost:8080/",
          "height": 510
        },
        "id": "CGyyZ6eh2Zpt",
        "outputId": "bb625fff-2fa9-4f77-c234-7db3c5201407"
      },
      "source": [
        "# exploring dataset\n",
        "df = pd.read_excel('Summer_Olympic_medallists_1896-2008.xlsx')\n",
        "display(df.head())\n",
        "display(df.info())"
      ],
      "execution_count": 36,
      "outputs": [
        {
          "output_type": "display_data",
          "data": {
            "text/html": [
              "<div>\n",
              "<style scoped>\n",
              "    .dataframe tbody tr th:only-of-type {\n",
              "        vertical-align: middle;\n",
              "    }\n",
              "\n",
              "    .dataframe tbody tr th {\n",
              "        vertical-align: top;\n",
              "    }\n",
              "\n",
              "    .dataframe thead th {\n",
              "        text-align: right;\n",
              "    }\n",
              "</style>\n",
              "<table border=\"1\" class=\"dataframe\">\n",
              "  <thead>\n",
              "    <tr style=\"text-align: right;\">\n",
              "      <th></th>\n",
              "      <th>City</th>\n",
              "      <th>Edition</th>\n",
              "      <th>Sport</th>\n",
              "      <th>Discipline</th>\n",
              "      <th>Athlete</th>\n",
              "      <th>NOC</th>\n",
              "      <th>Gender</th>\n",
              "      <th>Event</th>\n",
              "      <th>Event_gender</th>\n",
              "      <th>Medal</th>\n",
              "    </tr>\n",
              "  </thead>\n",
              "  <tbody>\n",
              "    <tr>\n",
              "      <th>0</th>\n",
              "      <td>Athens</td>\n",
              "      <td>1896</td>\n",
              "      <td>Aquatics</td>\n",
              "      <td>Swimming</td>\n",
              "      <td>HAJOS, Alfred</td>\n",
              "      <td>HUN</td>\n",
              "      <td>Men</td>\n",
              "      <td>100m freestyle</td>\n",
              "      <td>M</td>\n",
              "      <td>Gold</td>\n",
              "    </tr>\n",
              "    <tr>\n",
              "      <th>1</th>\n",
              "      <td>Athens</td>\n",
              "      <td>1896</td>\n",
              "      <td>Aquatics</td>\n",
              "      <td>Swimming</td>\n",
              "      <td>HERSCHMANN, Otto</td>\n",
              "      <td>AUT</td>\n",
              "      <td>Men</td>\n",
              "      <td>100m freestyle</td>\n",
              "      <td>M</td>\n",
              "      <td>Silver</td>\n",
              "    </tr>\n",
              "    <tr>\n",
              "      <th>2</th>\n",
              "      <td>Athens</td>\n",
              "      <td>1896</td>\n",
              "      <td>Aquatics</td>\n",
              "      <td>Swimming</td>\n",
              "      <td>DRIVAS, Dimitrios</td>\n",
              "      <td>GRE</td>\n",
              "      <td>Men</td>\n",
              "      <td>100m freestyle for sailors</td>\n",
              "      <td>M</td>\n",
              "      <td>Bronze</td>\n",
              "    </tr>\n",
              "    <tr>\n",
              "      <th>3</th>\n",
              "      <td>Athens</td>\n",
              "      <td>1896</td>\n",
              "      <td>Aquatics</td>\n",
              "      <td>Swimming</td>\n",
              "      <td>MALOKINIS, Ioannis</td>\n",
              "      <td>GRE</td>\n",
              "      <td>Men</td>\n",
              "      <td>100m freestyle for sailors</td>\n",
              "      <td>M</td>\n",
              "      <td>Gold</td>\n",
              "    </tr>\n",
              "    <tr>\n",
              "      <th>4</th>\n",
              "      <td>Athens</td>\n",
              "      <td>1896</td>\n",
              "      <td>Aquatics</td>\n",
              "      <td>Swimming</td>\n",
              "      <td>CHASAPIS, Spiridon</td>\n",
              "      <td>GRE</td>\n",
              "      <td>Men</td>\n",
              "      <td>100m freestyle for sailors</td>\n",
              "      <td>M</td>\n",
              "      <td>Silver</td>\n",
              "    </tr>\n",
              "  </tbody>\n",
              "</table>\n",
              "</div>"
            ],
            "text/plain": [
              "     City  Edition     Sport  ...                       Event Event_gender   Medal\n",
              "0  Athens     1896  Aquatics  ...              100m freestyle            M    Gold\n",
              "1  Athens     1896  Aquatics  ...              100m freestyle            M  Silver\n",
              "2  Athens     1896  Aquatics  ...  100m freestyle for sailors            M  Bronze\n",
              "3  Athens     1896  Aquatics  ...  100m freestyle for sailors            M    Gold\n",
              "4  Athens     1896  Aquatics  ...  100m freestyle for sailors            M  Silver\n",
              "\n",
              "[5 rows x 10 columns]"
            ]
          },
          "metadata": {
            "tags": []
          }
        },
        {
          "output_type": "stream",
          "text": [
            "<class 'pandas.core.frame.DataFrame'>\n",
            "RangeIndex: 29216 entries, 0 to 29215\n",
            "Data columns (total 10 columns):\n",
            " #   Column        Non-Null Count  Dtype \n",
            "---  ------        --------------  ----- \n",
            " 0   City          29216 non-null  object\n",
            " 1   Edition       29216 non-null  int64 \n",
            " 2   Sport         29216 non-null  object\n",
            " 3   Discipline    29216 non-null  object\n",
            " 4   Athlete       29216 non-null  object\n",
            " 5   NOC           29216 non-null  object\n",
            " 6   Gender        29216 non-null  object\n",
            " 7   Event         29216 non-null  object\n",
            " 8   Event_gender  29216 non-null  object\n",
            " 9   Medal         29216 non-null  object\n",
            "dtypes: int64(1), object(9)\n",
            "memory usage: 2.2+ MB\n"
          ],
          "name": "stdout"
        },
        {
          "output_type": "display_data",
          "data": {
            "text/plain": [
              "None"
            ]
          },
          "metadata": {
            "tags": []
          }
        }
      ]
    },
    {
      "cell_type": "markdown",
      "metadata": {
        "id": "BDIfMcM06-OJ"
      },
      "source": [
        "**Quais são as 5 Disciplines (esportes) que mais premiaram medalhas?**"
      ]
    },
    {
      "cell_type": "code",
      "metadata": {
        "colab": {
          "base_uri": "https://localhost:8080/",
          "height": 384
        },
        "id": "J8DraA3c7dcS",
        "outputId": "ca896abc-e46d-4798-b275-f402c9654089"
      },
      "source": [
        "# selecting the first 5 disciplines with the most medals\n",
        "top_five_disciplines = df.Discipline.value_counts()[:5]\n",
        "display(top_five_disciplines)\n",
        "# plotting results\n",
        "plt.style.use('ggplot')\n",
        "_ = sns.barplot(\n",
        "      x=top_five_disciplines.index, \n",
        "      y=top_five_disciplines.values)\n",
        "_ = plt.title('Top 5 esportes com mais medalhas')\n",
        "_ = plt.ylabel('Número de medalhas')"
      ],
      "execution_count": 114,
      "outputs": [
        {
          "output_type": "display_data",
          "data": {
            "text/plain": [
              "Athletics      3448\n",
              "Rowing         2523\n",
              "Swimming       2439\n",
              "Artistic G.    2103\n",
              "Fencing        1547\n",
              "Name: Discipline, dtype: int64"
            ]
          },
          "metadata": {
            "tags": []
          }
        },
        {
          "output_type": "display_data",
          "data": {
            "image/png": "[encoded data removed]",
            "text/plain": [
              "<Figure size 432x288 with 1 Axes>"
            ]
          },
          "metadata": {
            "tags": []
          }
        }
      ]
    },
    {
      "cell_type": "markdown",
      "metadata": {
        "id": "uY5nkgTkSRmq"
      },
      "source": [
        "**Quais são os 10 atletas que mais ganharam medalhas?**"
      ]
    },
    {
      "cell_type": "code",
      "metadata": {
        "colab": {
          "base_uri": "https://localhost:8080/",
          "height": 593
        },
        "id": "oy0iXlEnSW4E",
        "outputId": "b257e065-2afe-4243-bd74-0a6fbb3e830b"
      },
      "source": [
        "# selecting the first 10 athletes with the most medals\n",
        "top_ten_athletes = df.Athlete.value_counts()[:10]\n",
        "display(top_ten_athletes)\n",
        "# plotting results\n",
        "plt.style.use('ggplot')\n",
        "\n",
        "_ = plt.figure(figsize=(20,8))\n",
        "_ = sns.barplot(\n",
        "      x=top_ten_athletes.index, \n",
        "      y=top_ten_athletes.values)\n",
        "_ = plt.title('Top 10 atletas com mais medalhas')\n",
        "_ = plt.ylabel('Número de medalhas')"
      ],
      "execution_count": 85,
      "outputs": [
        {
          "output_type": "display_data",
          "data": {
            "text/plain": [
              "LATYNINA, Larisa        18\n",
              "PHELPS, Michael         16\n",
              "ANDRIANOV, Nikolay      15\n",
              "SHAKHLIN, Boris         13\n",
              "MANGIAROTTI, Edoardo    13\n",
              "ONO, Takashi            13\n",
              "FISCHER, Birgit         12\n",
              "NURMI, Paavo            12\n",
              "NEMOV, Alexei           12\n",
              "TORRES, Dara            12\n",
              "Name: Athlete, dtype: int64"
            ]
          },
          "metadata": {
            "tags": []
          }
        },
        {
          "output_type": "display_data",
          "data": {
            "image/png": "[encoded data removed]",
            "text/plain": [
              "<Figure size 1440x576 with 1 Axes>"
            ]
          },
          "metadata": {
            "tags": []
          }
        }
      ]
    },
    {
      "cell_type": "markdown",
      "metadata": {
        "id": "iP1AcvAbj6hH"
      },
      "source": [
        "**Quantas medalhas foram premiadas desde 1896?**\n"
      ]
    },
    {
      "cell_type": "code",
      "metadata": {
        "colab": {
          "base_uri": "https://localhost:8080/"
        },
        "id": "_SR2E9v3j8lh",
        "outputId": "d6b93991-6029-4bee-fd15-c58aee3b1fa4"
      },
      "source": [
        "medals_since_1896 = df['Medal'].value_counts()\n",
        "medals_since_1896\n"
      ],
      "execution_count": 113,
      "outputs": [
        {
          "output_type": "execute_result",
          "data": {
            "text/plain": [
              "Gold      9850\n",
              "Bronze    9689\n",
              "Silver    9677\n",
              "Name: Medal, dtype: int64"
            ]
          },
          "metadata": {
            "tags": []
          },
          "execution_count": 113
        }
      ]
    }
  ]
}