{
  "nbformat": 4,
  "nbformat_minor": 0,
  "metadata": {
    "colab": {
      "name": "characters.ipynb",
      "provenance": [],
      "collapsed_sections": []
    },
    "kernelspec": {
      "name": "python3",
      "display_name": "Python 3"
    },
    "language_info": {
      "name": "python"
    }
  },
  "cells": [
    {
      "cell_type": "code",
      "metadata": {
        "id": "PP6xLLJzTvWj"
      },
      "source": [
        "# importing libraries\n",
        "import pandas as pd\n",
        "import numpy as np\n",
        "import matplotlib.pyplot as plt\n",
        "import seaborn as sns"
      ],
      "execution_count": 9,
      "outputs": []
    },
    {
      "cell_type": "markdown",
      "metadata": {
        "id": "kiVl302eVApP"
      },
      "source": [
        "## Exercício MTEch Dia 3\n",
        "\n",
        "Este é o último dos três exercícios práticos que serão disponibilizados durante o\n",
        "MTEch 2021.\n",
        "\n",
        "Nestes [link 1](https://drive.google.com/file/d/1wBMGWDxtU0EX9SVcKPOGdoNSKs8iVr3Y/view) e [link 2](https://drive.google.com/file/d/1rKUJr8YZhiB180naeSS_AH09lgjT3Dpj/view) você encontra duas bases contendo dados sobre 611 personagens da Marvel e DC, dentre eles a destemida Mulher Maravilha, o grande Homem-Aranha e a mortal Viúva Negra. Você deve carregá-las no Colab e descobrir:\n",
        "\n",
        "- O quão inteligentes são os heróis nas bases? (histograma do atributo inteligência)\n",
        "- Os heróis mais poderosos (Power > 75), inteligentes (Intelligence > 80) e rápidos (Speed > 80) são maioria do bem ou do mau?\n",
        "- Esses heróis mais poderosos, inteligentes e rápidos são maioria da Marvel ou DC?"
      ]
    },
    {
      "cell_type": "code",
      "metadata": {
        "colab": {
          "base_uri": "https://localhost:8080/",
          "height": 493
        },
        "id": "5Fz1kXK6U_-k",
        "outputId": "1eec197f-9147-4ab8-a544-c2fcd9d11d9a"
      },
      "source": [
        "# exploring characters_stats dataset\n",
        "df_char_stats = pd.read_csv('characters_stats.csv')\n",
        "\n",
        "display(df_char_stats.head())\n",
        "display(df_char_stats.info())"
      ],
      "execution_count": 10,
      "outputs": [
        {
          "output_type": "display_data",
          "data": {
            "text/html": [
              "<div>\n",
              "<style scoped>\n",
              "    .dataframe tbody tr th:only-of-type {\n",
              "        vertical-align: middle;\n",
              "    }\n",
              "\n",
              "    .dataframe tbody tr th {\n",
              "        vertical-align: top;\n",
              "    }\n",
              "\n",
              "    .dataframe thead th {\n",
              "        text-align: right;\n",
              "    }\n",
              "</style>\n",
              "<table border=\"1\" class=\"dataframe\">\n",
              "  <thead>\n",
              "    <tr style=\"text-align: right;\">\n",
              "      <th></th>\n",
              "      <th>Name</th>\n",
              "      <th>Alignment</th>\n",
              "      <th>Intelligence</th>\n",
              "      <th>Strength</th>\n",
              "      <th>Speed</th>\n",
              "      <th>Durability</th>\n",
              "      <th>Power</th>\n",
              "      <th>Combat</th>\n",
              "      <th>Total</th>\n",
              "    </tr>\n",
              "  </thead>\n",
              "  <tbody>\n",
              "    <tr>\n",
              "      <th>0</th>\n",
              "      <td>3-D Man</td>\n",
              "      <td>good</td>\n",
              "      <td>50</td>\n",
              "      <td>31</td>\n",
              "      <td>43</td>\n",
              "      <td>32</td>\n",
              "      <td>25</td>\n",
              "      <td>52</td>\n",
              "      <td>233</td>\n",
              "    </tr>\n",
              "    <tr>\n",
              "      <th>1</th>\n",
              "      <td>A-Bomb</td>\n",
              "      <td>good</td>\n",
              "      <td>38</td>\n",
              "      <td>100</td>\n",
              "      <td>17</td>\n",
              "      <td>80</td>\n",
              "      <td>17</td>\n",
              "      <td>64</td>\n",
              "      <td>316</td>\n",
              "    </tr>\n",
              "    <tr>\n",
              "      <th>2</th>\n",
              "      <td>Abe Sapien</td>\n",
              "      <td>good</td>\n",
              "      <td>88</td>\n",
              "      <td>14</td>\n",
              "      <td>35</td>\n",
              "      <td>42</td>\n",
              "      <td>35</td>\n",
              "      <td>85</td>\n",
              "      <td>299</td>\n",
              "    </tr>\n",
              "    <tr>\n",
              "      <th>3</th>\n",
              "      <td>Abin Sur</td>\n",
              "      <td>good</td>\n",
              "      <td>50</td>\n",
              "      <td>90</td>\n",
              "      <td>53</td>\n",
              "      <td>64</td>\n",
              "      <td>84</td>\n",
              "      <td>65</td>\n",
              "      <td>406</td>\n",
              "    </tr>\n",
              "    <tr>\n",
              "      <th>4</th>\n",
              "      <td>Abomination</td>\n",
              "      <td>bad</td>\n",
              "      <td>63</td>\n",
              "      <td>80</td>\n",
              "      <td>53</td>\n",
              "      <td>90</td>\n",
              "      <td>55</td>\n",
              "      <td>95</td>\n",
              "      <td>436</td>\n",
              "    </tr>\n",
              "  </tbody>\n",
              "</table>\n",
              "</div>"
            ],
            "text/plain": [
              "          Name Alignment  Intelligence  ...  Power  Combat  Total\n",
              "0      3-D Man      good            50  ...     25      52    233\n",
              "1       A-Bomb      good            38  ...     17      64    316\n",
              "2   Abe Sapien      good            88  ...     35      85    299\n",
              "3     Abin Sur      good            50  ...     84      65    406\n",
              "4  Abomination       bad            63  ...     55      95    436\n",
              "\n",
              "[5 rows x 9 columns]"
            ]
          },
          "metadata": {
            "tags": []
          }
        },
        {
          "output_type": "stream",
          "text": [
            "<class 'pandas.core.frame.DataFrame'>\n",
            "RangeIndex: 611 entries, 0 to 610\n",
            "Data columns (total 9 columns):\n",
            " #   Column        Non-Null Count  Dtype \n",
            "---  ------        --------------  ----- \n",
            " 0   Name          611 non-null    object\n",
            " 1   Alignment     608 non-null    object\n",
            " 2   Intelligence  611 non-null    int64 \n",
            " 3   Strength      611 non-null    int64 \n",
            " 4   Speed         611 non-null    int64 \n",
            " 5   Durability    611 non-null    int64 \n",
            " 6   Power         611 non-null    int64 \n",
            " 7   Combat        611 non-null    int64 \n",
            " 8   Total         611 non-null    int64 \n",
            "dtypes: int64(7), object(2)\n",
            "memory usage: 43.1+ KB\n"
          ],
          "name": "stdout"
        },
        {
          "output_type": "display_data",
          "data": {
            "text/plain": [
              "None"
            ]
          },
          "metadata": {
            "tags": []
          }
        }
      ]
    },
    {
      "cell_type": "code",
      "metadata": {
        "colab": {
          "base_uri": "https://localhost:8080/",
          "height": 541
        },
        "id": "BAXWkK1YaN8b",
        "outputId": "594ebb3b-038a-4aad-eee9-d3e69e5d5bfa"
      },
      "source": [
        "# exploring marvel_characters_info dataset\n",
        "df_char_info = pd.read_csv('marvel_characters_info.csv', index_col=0)\n",
        "\n",
        "display(df_char_info.head())\n",
        "display(df_char_info.info())"
      ],
      "execution_count": 11,
      "outputs": [
        {
          "output_type": "display_data",
          "data": {
            "text/html": [
              "<div>\n",
              "<style scoped>\n",
              "    .dataframe tbody tr th:only-of-type {\n",
              "        vertical-align: middle;\n",
              "    }\n",
              "\n",
              "    .dataframe tbody tr th {\n",
              "        vertical-align: top;\n",
              "    }\n",
              "\n",
              "    .dataframe thead th {\n",
              "        text-align: right;\n",
              "    }\n",
              "</style>\n",
              "<table border=\"1\" class=\"dataframe\">\n",
              "  <thead>\n",
              "    <tr style=\"text-align: right;\">\n",
              "      <th></th>\n",
              "      <th>Name</th>\n",
              "      <th>Alignment</th>\n",
              "      <th>Gender</th>\n",
              "      <th>EyeColor</th>\n",
              "      <th>Race</th>\n",
              "      <th>HairColor</th>\n",
              "      <th>Publisher</th>\n",
              "      <th>SkinColor</th>\n",
              "      <th>Height</th>\n",
              "      <th>Weight</th>\n",
              "    </tr>\n",
              "    <tr>\n",
              "      <th>ID</th>\n",
              "      <th></th>\n",
              "      <th></th>\n",
              "      <th></th>\n",
              "      <th></th>\n",
              "      <th></th>\n",
              "      <th></th>\n",
              "      <th></th>\n",
              "      <th></th>\n",
              "      <th></th>\n",
              "      <th></th>\n",
              "    </tr>\n",
              "  </thead>\n",
              "  <tbody>\n",
              "    <tr>\n",
              "      <th>0</th>\n",
              "      <td>A-Bomb</td>\n",
              "      <td>good</td>\n",
              "      <td>Male</td>\n",
              "      <td>yellow</td>\n",
              "      <td>Human</td>\n",
              "      <td>No Hair</td>\n",
              "      <td>Marvel Comics</td>\n",
              "      <td>-</td>\n",
              "      <td>203.0</td>\n",
              "      <td>441.0</td>\n",
              "    </tr>\n",
              "    <tr>\n",
              "      <th>1</th>\n",
              "      <td>Abe Sapien</td>\n",
              "      <td>good</td>\n",
              "      <td>Male</td>\n",
              "      <td>blue</td>\n",
              "      <td>Icthyo Sapien</td>\n",
              "      <td>No Hair</td>\n",
              "      <td>Dark Horse Comics</td>\n",
              "      <td>blue</td>\n",
              "      <td>191.0</td>\n",
              "      <td>65.0</td>\n",
              "    </tr>\n",
              "    <tr>\n",
              "      <th>2</th>\n",
              "      <td>Abin Sur</td>\n",
              "      <td>good</td>\n",
              "      <td>Male</td>\n",
              "      <td>blue</td>\n",
              "      <td>Ungaran</td>\n",
              "      <td>No Hair</td>\n",
              "      <td>DC Comics</td>\n",
              "      <td>red</td>\n",
              "      <td>185.0</td>\n",
              "      <td>90.0</td>\n",
              "    </tr>\n",
              "    <tr>\n",
              "      <th>3</th>\n",
              "      <td>Abomination</td>\n",
              "      <td>bad</td>\n",
              "      <td>Male</td>\n",
              "      <td>green</td>\n",
              "      <td>Human / Radiation</td>\n",
              "      <td>No Hair</td>\n",
              "      <td>Marvel Comics</td>\n",
              "      <td>-</td>\n",
              "      <td>203.0</td>\n",
              "      <td>441.0</td>\n",
              "    </tr>\n",
              "    <tr>\n",
              "      <th>4</th>\n",
              "      <td>Abraxas</td>\n",
              "      <td>bad</td>\n",
              "      <td>Male</td>\n",
              "      <td>blue</td>\n",
              "      <td>Cosmic Entity</td>\n",
              "      <td>Black</td>\n",
              "      <td>Marvel Comics</td>\n",
              "      <td>-</td>\n",
              "      <td>-99.0</td>\n",
              "      <td>-99.0</td>\n",
              "    </tr>\n",
              "  </tbody>\n",
              "</table>\n",
              "</div>"
            ],
            "text/plain": [
              "           Name Alignment Gender  ... SkinColor Height Weight\n",
              "ID                                ...                        \n",
              "0        A-Bomb      good   Male  ...         -  203.0  441.0\n",
              "1    Abe Sapien      good   Male  ...      blue  191.0   65.0\n",
              "2      Abin Sur      good   Male  ...       red  185.0   90.0\n",
              "3   Abomination       bad   Male  ...         -  203.0  441.0\n",
              "4       Abraxas       bad   Male  ...         -  -99.0  -99.0\n",
              "\n",
              "[5 rows x 10 columns]"
            ]
          },
          "metadata": {
            "tags": []
          }
        },
        {
          "output_type": "stream",
          "text": [
            "<class 'pandas.core.frame.DataFrame'>\n",
            "Int64Index: 734 entries, 0 to 733\n",
            "Data columns (total 10 columns):\n",
            " #   Column     Non-Null Count  Dtype  \n",
            "---  ------     --------------  -----  \n",
            " 0   Name       734 non-null    object \n",
            " 1   Alignment  734 non-null    object \n",
            " 2   Gender     734 non-null    object \n",
            " 3   EyeColor   734 non-null    object \n",
            " 4   Race       734 non-null    object \n",
            " 5   HairColor  734 non-null    object \n",
            " 6   Publisher  719 non-null    object \n",
            " 7   SkinColor  734 non-null    object \n",
            " 8   Height     734 non-null    float64\n",
            " 9   Weight     732 non-null    float64\n",
            "dtypes: float64(2), object(8)\n",
            "memory usage: 63.1+ KB\n"
          ],
          "name": "stdout"
        },
        {
          "output_type": "display_data",
          "data": {
            "text/plain": [
              "None"
            ]
          },
          "metadata": {
            "tags": []
          }
        }
      ]
    },
    {
      "cell_type": "code",
      "metadata": {
        "colab": {
          "base_uri": "https://localhost:8080/",
          "height": 285
        },
        "id": "VrY4riWBaf6v",
        "outputId": "bc18c28c-5a6b-4673-be5a-fdd38d1c1cf4"
      },
      "source": [
        "# how smart are the super-heros?\n",
        "_ = plt.style.use('ggplot')\n",
        "_ = sns.histplot(data=df_char_stats, x='Intelligence', bins=6, alpha=0.9)"
      ],
      "execution_count": 12,
      "outputs": [
        {
          "output_type": "display_data",
          "data": {
            "image/png": "[encoded data removed]",
            "text/plain": [
              "<Figure size 432x288 with 1 Axes>"
            ]
          },
          "metadata": {
            "tags": []
          }
        }
      ]
    },
    {
      "cell_type": "code",
      "metadata": {
        "colab": {
          "base_uri": "https://localhost:8080/",
          "height": 374
        },
        "id": "1qfqLNKMdZix",
        "outputId": "f9a4eb0c-c94b-4f2e-9b2e-9b9f54a851b5"
      },
      "source": [
        "# powerful characters\n",
        "most_powerful = df_char_stats.loc[(df_char_stats['Intelligence'] > 80) & (df_char_stats['Speed'] > 80) & (df_char_stats['Power'] > 75)]\n",
        "\n",
        "_ = plt.figure(figsize=(6, 6))\n",
        "_ = plt.pie(most_powerful['Alignment'].value_counts(), labels=most_powerful['Alignment'].value_counts().index)\n",
        "_ = plt.ylabel('Alignment')\n",
        "_ = plt.title('Good or bad?')"
      ],
      "execution_count": 13,
      "outputs": [
        {
          "output_type": "display_data",
          "data": {
            "image/png": "[encoded data removed]",
            "text/plain": [
              "<Figure size 432x432 with 1 Axes>"
            ]
          },
          "metadata": {
            "tags": []
          }
        }
      ]
    },
    {
      "cell_type": "code",
      "metadata": {
        "id": "OEWYz9u_nUx_",
        "colab": {
          "base_uri": "https://localhost:8080/",
          "height": 391
        },
        "outputId": "072e6879-c0b6-42ac-e4e7-82c3193876b6"
      },
      "source": [
        "hero_list = most_powerful['Name']\n",
        "\n",
        "marvel_or_dc = df_char_info.loc[df_char_info['Name'].isin(hero_list)]\n",
        "\n",
        "marvel_or_dc['Publisher'].value_counts().plot(kind = 'pie',\n",
        "                                     title = 'De onde vem os melhores heróis?', \n",
        "                                     figsize = (8,6))"
      ],
      "execution_count": 17,
      "outputs": [
        {
          "output_type": "execute_result",
          "data": {
            "text/plain": [
              "<matplotlib.axes._subplots.AxesSubplot at 0x7fbde1d377d0>"
            ]
          },
          "metadata": {
            "tags": []
          },
          "execution_count": 17
        },
        {
          "output_type": "display_data",
          "data": {
            "image/png": "[encoded data removed]",
            "text/plain": [
              "<Figure size 576x432 with 1 Axes>"
            ]
          },
          "metadata": {
            "tags": []
          }
        }
      ]
    }
  ]
}