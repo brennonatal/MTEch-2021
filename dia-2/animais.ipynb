{
  "nbformat": 4,
  "nbformat_minor": 0,
  "metadata": {
    "colab": {
      "name": "animais.ipynb",
      "provenance": [],
      "collapsed_sections": [],
      "toc_visible": true
    },
    "kernelspec": {
      "name": "python3",
      "display_name": "Python 3"
    },
    "language_info": {
      "name": "python"
    }
  },
  "cells": [
    {
      "cell_type": "code",
      "metadata": {
        "id": "fnHbOQNRslFP"
      },
      "source": [
        "# importing libraries\n",
        "import pandas as pd\n",
        "import numpy as np"
      ],
      "execution_count": 2,
      "outputs": []
    },
    {
      "cell_type": "markdown",
      "metadata": {
        "id": "6IoRkI6Lr9M5"
      },
      "source": [
        "## Exercicio MTEch dia 2\n",
        "\n",
        "Este é o segundo de três exercícios práticos que serão disponibilizados durante o\n",
        "MTEch 2021.\n",
        "\n",
        "Durante a mudança para um novo local maior e mais bem equipado, o Abrigo Animal de Bloomington perdeu sua planilha de análise de dados que um antigo funcionário criou e agora só tem a base bruta, contendo diversas informações sobre seus animais, que são também os mais fofos do planeta!\n",
        "\n",
        "Você deve então importar a base dados nesse [Link](https://drive.google.com/file/d/1-GEnjZfD9Wc_aar-Tsnl3qdrCMpYL-4Y/view) para ajudar o abrigo a recuperar suas\n",
        "análises, encontrando:\n",
        "\n",
        "- Quais são as espécies de animais do abrigo e quantos são.\n",
        "- Quantos são machos e quantos são fêmeas.\n",
        "- Qual a idade média dos gatos (Cats).\n",
        "- Qual o animal mais velho\n",
        "- Quantos vira-latas caramelo (basecolour = Brown) com mais de 5 anos o abrigo\n",
        "possui"
      ]
    },
    {
      "cell_type": "code",
      "metadata": {
        "colab": {
          "base_uri": "https://localhost:8080/",
          "height": 887
        },
        "id": "UDBp7b1Nr0j3",
        "outputId": "923ef71e-e1d9-4107-fdf0-b7e68ffd6923"
      },
      "source": [
        "# exploring dataset\n",
        "df = pd.read_csv('Saving animal-data-1.csv')\n",
        "display(df.head())\n",
        "display(df.info())"
      ],
      "execution_count": 9,
      "outputs": [
        {
          "output_type": "display_data",
          "data": {
            "text/html": [
              "<div>\n",
              "<style scoped>\n",
              "    .dataframe tbody tr th:only-of-type {\n",
              "        vertical-align: middle;\n",
              "    }\n",
              "\n",
              "    .dataframe tbody tr th {\n",
              "        vertical-align: top;\n",
              "    }\n",
              "\n",
              "    .dataframe thead th {\n",
              "        text-align: right;\n",
              "    }\n",
              "</style>\n",
              "<table border=\"1\" class=\"dataframe\">\n",
              "  <thead>\n",
              "    <tr style=\"text-align: right;\">\n",
              "      <th></th>\n",
              "      <th>id</th>\n",
              "      <th>intakedate</th>\n",
              "      <th>intakereason</th>\n",
              "      <th>istransfer</th>\n",
              "      <th>sheltercode</th>\n",
              "      <th>identichipnumber</th>\n",
              "      <th>animalname</th>\n",
              "      <th>breedname</th>\n",
              "      <th>basecolour</th>\n",
              "      <th>speciesname</th>\n",
              "      <th>animalage</th>\n",
              "      <th>sexname</th>\n",
              "      <th>location</th>\n",
              "      <th>movementdate</th>\n",
              "      <th>movementtype</th>\n",
              "      <th>istrial</th>\n",
              "      <th>returndate</th>\n",
              "      <th>returnedreason</th>\n",
              "      <th>deceaseddate</th>\n",
              "      <th>deceasedreason</th>\n",
              "      <th>diedoffshelter</th>\n",
              "      <th>puttosleep</th>\n",
              "      <th>isdoa</th>\n",
              "    </tr>\n",
              "  </thead>\n",
              "  <tbody>\n",
              "    <tr>\n",
              "      <th>0</th>\n",
              "      <td>15801</td>\n",
              "      <td>2009-11-28 00:00:00</td>\n",
              "      <td>Moving</td>\n",
              "      <td>0</td>\n",
              "      <td>C09115463</td>\n",
              "      <td>0A115D7358</td>\n",
              "      <td>Jadzia</td>\n",
              "      <td>Domestic Short Hair</td>\n",
              "      <td>Tortie</td>\n",
              "      <td>Cat</td>\n",
              "      <td>9.20</td>\n",
              "      <td>Female</td>\n",
              "      <td>Adoptable Cat Glass Colony</td>\n",
              "      <td>2017-05-13 00:00:00</td>\n",
              "      <td>Adoption</td>\n",
              "      <td>0.0</td>\n",
              "      <td>NaN</td>\n",
              "      <td>Stray</td>\n",
              "      <td>NaN</td>\n",
              "      <td>Died in care</td>\n",
              "      <td>0</td>\n",
              "      <td>0</td>\n",
              "      <td>0</td>\n",
              "    </tr>\n",
              "    <tr>\n",
              "      <th>1</th>\n",
              "      <td>15932</td>\n",
              "      <td>2009-12-08 00:00:00</td>\n",
              "      <td>Moving</td>\n",
              "      <td>0</td>\n",
              "      <td>D09125594</td>\n",
              "      <td>0A11675477</td>\n",
              "      <td>Gonzo</td>\n",
              "      <td>German Shepherd Dog/Mix</td>\n",
              "      <td>Tan</td>\n",
              "      <td>Dog</td>\n",
              "      <td>9.10</td>\n",
              "      <td>Male</td>\n",
              "      <td>Adoptable Dogs</td>\n",
              "      <td>2017-04-24 00:00:00</td>\n",
              "      <td>Adoption</td>\n",
              "      <td>0.0</td>\n",
              "      <td>NaN</td>\n",
              "      <td>Stray</td>\n",
              "      <td>NaN</td>\n",
              "      <td>Died in care</td>\n",
              "      <td>0</td>\n",
              "      <td>0</td>\n",
              "      <td>0</td>\n",
              "    </tr>\n",
              "    <tr>\n",
              "      <th>2</th>\n",
              "      <td>28859</td>\n",
              "      <td>2012-08-10 00:00:00</td>\n",
              "      <td>Abandoned</td>\n",
              "      <td>0</td>\n",
              "      <td>D12082309</td>\n",
              "      <td>0A13253C7B</td>\n",
              "      <td>Maggie</td>\n",
              "      <td>Shep Mix/Siberian Husky</td>\n",
              "      <td>Various</td>\n",
              "      <td>Dog</td>\n",
              "      <td>6.80</td>\n",
              "      <td>Female</td>\n",
              "      <td>Adoptable Dogs</td>\n",
              "      <td>2017-04-15 00:00:00</td>\n",
              "      <td>Adoption</td>\n",
              "      <td>0.0</td>\n",
              "      <td>NaN</td>\n",
              "      <td>Stray</td>\n",
              "      <td>NaN</td>\n",
              "      <td>Died in care</td>\n",
              "      <td>0</td>\n",
              "      <td>0</td>\n",
              "      <td>0</td>\n",
              "    </tr>\n",
              "    <tr>\n",
              "      <th>3</th>\n",
              "      <td>30812</td>\n",
              "      <td>2013-01-11 00:00:00</td>\n",
              "      <td>Abandoned</td>\n",
              "      <td>0</td>\n",
              "      <td>C1301091</td>\n",
              "      <td>0A13403D4D</td>\n",
              "      <td>Pretty Girl</td>\n",
              "      <td>Domestic Short Hair</td>\n",
              "      <td>Dilute tortoiseshell</td>\n",
              "      <td>Cat</td>\n",
              "      <td>8.11</td>\n",
              "      <td>Female</td>\n",
              "      <td>Stray Cats</td>\n",
              "      <td>2017-04-18 00:00:00</td>\n",
              "      <td>Foster</td>\n",
              "      <td>0.0</td>\n",
              "      <td>2018-05-29 00:00:00</td>\n",
              "      <td>Stray</td>\n",
              "      <td>NaN</td>\n",
              "      <td>Died in care</td>\n",
              "      <td>0</td>\n",
              "      <td>0</td>\n",
              "      <td>0</td>\n",
              "    </tr>\n",
              "    <tr>\n",
              "      <th>4</th>\n",
              "      <td>30812</td>\n",
              "      <td>2013-01-11 00:00:00</td>\n",
              "      <td>Abandoned</td>\n",
              "      <td>0</td>\n",
              "      <td>C1301091</td>\n",
              "      <td>0A13403D4D</td>\n",
              "      <td>Pretty Girl</td>\n",
              "      <td>Domestic Short Hair</td>\n",
              "      <td>Dilute tortoiseshell</td>\n",
              "      <td>Cat</td>\n",
              "      <td>8.11</td>\n",
              "      <td>Female</td>\n",
              "      <td>Stray Cats</td>\n",
              "      <td>2018-05-29 00:00:00</td>\n",
              "      <td>Adoption</td>\n",
              "      <td>0.0</td>\n",
              "      <td>NaN</td>\n",
              "      <td>Stray</td>\n",
              "      <td>NaN</td>\n",
              "      <td>Died in care</td>\n",
              "      <td>0</td>\n",
              "      <td>0</td>\n",
              "      <td>0</td>\n",
              "    </tr>\n",
              "  </tbody>\n",
              "</table>\n",
              "</div>"
            ],
            "text/plain": [
              "      id           intakedate intakereason  ...  diedoffshelter puttosleep isdoa\n",
              "0  15801  2009-11-28 00:00:00       Moving  ...               0          0     0\n",
              "1  15932  2009-12-08 00:00:00       Moving  ...               0          0     0\n",
              "2  28859  2012-08-10 00:00:00    Abandoned  ...               0          0     0\n",
              "3  30812  2013-01-11 00:00:00    Abandoned  ...               0          0     0\n",
              "4  30812  2013-01-11 00:00:00    Abandoned  ...               0          0     0\n",
              "\n",
              "[5 rows x 23 columns]"
            ]
          },
          "metadata": {
            "tags": []
          }
        },
        {
          "output_type": "stream",
          "text": [
            "<class 'pandas.core.frame.DataFrame'>\n",
            "RangeIndex: 10290 entries, 0 to 10289\n",
            "Data columns (total 23 columns):\n",
            " #   Column            Non-Null Count  Dtype  \n",
            "---  ------            --------------  -----  \n",
            " 0   id                10290 non-null  int64  \n",
            " 1   intakedate        10290 non-null  object \n",
            " 2   intakereason      10288 non-null  object \n",
            " 3   istransfer        10290 non-null  int64  \n",
            " 4   sheltercode       10290 non-null  object \n",
            " 5   identichipnumber  8324 non-null   object \n",
            " 6   animalname        10290 non-null  object \n",
            " 7   breedname         10245 non-null  object \n",
            " 8   basecolour        10290 non-null  object \n",
            " 9   speciesname       10290 non-null  object \n",
            " 10  animalage         10277 non-null  float64\n",
            " 11  sexname           10290 non-null  object \n",
            " 12  location          10290 non-null  object \n",
            " 13  movementdate      10290 non-null  object \n",
            " 14  movementtype      10290 non-null  object \n",
            " 15  istrial           10289 non-null  float64\n",
            " 16  returndate        3256 non-null   object \n",
            " 17  returnedreason    10290 non-null  object \n",
            " 18  deceaseddate      326 non-null    object \n",
            " 19  deceasedreason    10290 non-null  object \n",
            " 20  diedoffshelter    10290 non-null  int64  \n",
            " 21  puttosleep        10290 non-null  int64  \n",
            " 22  isdoa             10290 non-null  int64  \n",
            "dtypes: float64(2), int64(5), object(16)\n",
            "memory usage: 1.8+ MB\n"
          ],
          "name": "stdout"
        },
        {
          "output_type": "display_data",
          "data": {
            "text/plain": [
              "None"
            ]
          },
          "metadata": {
            "tags": []
          }
        }
      ]
    },
    {
      "cell_type": "code",
      "metadata": {
        "colab": {
          "base_uri": "https://localhost:8080/"
        },
        "id": "HxVrvfESt8Yt",
        "outputId": "e56b7d29-2f37-42d2-c781-47a990004429"
      },
      "source": [
        "# which species and how many animals from each specie\n",
        "species = df['speciesname'].value_counts()\n",
        "species"
      ],
      "execution_count": 31,
      "outputs": [
        {
          "output_type": "execute_result",
          "data": {
            "text/plain": [
              "Cat             5749\n",
              "Dog             3900\n",
              "House Rabbit     218\n",
              "Rat              130\n",
              "Guinea Pig        93\n",
              "Bird              38\n",
              "Livestock         18\n",
              "Hamster           17\n",
              "Hedgehog          15\n",
              "Mouse             13\n",
              "Gerbil            12\n",
              "Pig               11\n",
              "Ferret            11\n",
              "Chicken           10\n",
              "Snake              8\n",
              "Lizard             7\n",
              "Wildlife           7\n",
              "Fish               6\n",
              "Opossum            6\n",
              "Goat               5\n",
              "Sugar Glider       5\n",
              "Turtle             4\n",
              "Chinchilla         2\n",
              "Tortoise           2\n",
              "Raccoon            1\n",
              "Squirrel           1\n",
              "Tarantula          1\n",
              "Name: speciesname, dtype: int64"
            ]
          },
          "metadata": {
            "tags": []
          },
          "execution_count": 31
        }
      ]
    },
    {
      "cell_type": "code",
      "metadata": {
        "colab": {
          "base_uri": "https://localhost:8080/"
        },
        "id": "Rc6-l0ywvBk-",
        "outputId": "13206c1c-5470-4232-acf1-6c38423c65bf"
      },
      "source": [
        "# how many males and females\n",
        "num_males = df.loc[df['sexname'] == 'Male']['sexname'].count()\n",
        "num_females = df.loc[df['sexname'] == 'Female']['sexname'].count()\n",
        "\n",
        "print(f'{num_males} machos e {num_females} fêmeas.')"
      ],
      "execution_count": 26,
      "outputs": [
        {
          "output_type": "stream",
          "text": [
            "5086 machos e 4968 fêmeas\n"
          ],
          "name": "stdout"
        }
      ]
    },
    {
      "cell_type": "code",
      "metadata": {
        "colab": {
          "base_uri": "https://localhost:8080/"
        },
        "id": "hQ6n3d1VvX6t",
        "outputId": "7304d19d-f6a3-4a34-d057-ad84b7c2aa84"
      },
      "source": [
        "# mean age of cats\n",
        "cats_mean_age = df.loc[df['speciesname'] == 'Cat']['animalage'].mean()\n",
        "print(f'Os gatos tês em media {round(cats_mean_age, 2)} anos.')"
      ],
      "execution_count": 30,
      "outputs": [
        {
          "output_type": "stream",
          "text": [
            "Os gatos tês em media 6.8 anos\n"
          ],
          "name": "stdout"
        }
      ]
    },
    {
      "cell_type": "code",
      "metadata": {
        "colab": {
          "base_uri": "https://localhost:8080/"
        },
        "id": "p-VyR_Y-yM2B",
        "outputId": "12aee444-32a9-477c-b3ba-3e952b60ab1d"
      },
      "source": [
        "# oldest animal\n",
        "oldest_animal_age = df['animalage'].max()\n",
        "print(f'O animal mais velho tem {oldest_animal_age} anos.')\n",
        "\n",
        "oldest_animals = list(df.loc[df['animalage'] == oldest_animal]['animalname'].values)\n",
        "print(f'Animais mais velhos: {oldest_animals}')"
      ],
      "execution_count": 49,
      "outputs": [
        {
          "output_type": "stream",
          "text": [
            "O animal mais velho tem 100.6 anos.\n",
            "Animais mais velhos: ['Pop', 'Yertle']\n"
          ],
          "name": "stdout"
        }
      ]
    },
    {
      "cell_type": "code",
      "metadata": {
        "colab": {
          "base_uri": "https://localhost:8080/"
        },
        "id": "VqaogQoI0Tb4",
        "outputId": "ab68f0f4-1c10-4acd-86e1-f6e8567bd2c6"
      },
      "source": [
        "# how many brown dogs with more than 5 years\n",
        "older_brown_dogs = df.loc[(df['basecolour'] == 'Brown') & (df['animalage'] >= 5) & (df['speciesname'] == 'Dog')]\n",
        "\n",
        "print(f'São {len(older_brown_dogs)} vira-latas caramelo no abrigo.')"
      ],
      "execution_count": 65,
      "outputs": [
        {
          "output_type": "stream",
          "text": [
            "São 69 vira-latas caramelo no abrigo.\n"
          ],
          "name": "stdout"
        }
      ]
    }
  ]
}